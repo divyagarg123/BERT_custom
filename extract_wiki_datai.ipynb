{
  "nbformat": 4,
  "nbformat_minor": 0,
  "metadata": {
    "colab": {
      "provenance": []
    },
    "kernelspec": {
      "name": "python3",
      "display_name": "Python 3"
    },
    "language_info": {
      "name": "python"
    }
  },
  "cells": [
    {
      "cell_type": "code",
      "execution_count": null,
      "metadata": {
        "id": "232i8KCnGNV9"
      },
      "outputs": [],
      "source": [
        "from urllib.request import urlopen\n",
        "from bs4 import BeautifulSoup\n",
        "import re\n",
        "\n",
        "# Specify url of the web page\n",
        "source = urlopen('https://en.wikipedia.org/wiki/Collaborative_filtering').read()\n",
        "\n",
        "# Make a soup \n",
        "soup = BeautifulSoup(source,'lxml')\n",
        "soup\n",
        "\n",
        "# Extract the plain text content from paragraphs\n",
        "paras = []\n",
        "for paragraph in soup.find_all('p'):\n",
        "    paras.append(str(paragraph.text))\n",
        "\n",
        "# Extract text from paragraph headers\n",
        "heads = []\n",
        "for head in soup.find_all('span', attrs={'mw-headline'}):\n",
        "    heads.append(str(head.text))\n",
        "\n",
        "# Interleave paragraphs & headers\n",
        "text = [val for pair in zip(paras, heads) for val in pair]\n",
        "text = ' '.join(text)\n",
        "\n",
        "# Drop footnote superscripts in brackets\n",
        "text = re.sub(r\"\\[.*?\\]+\", '', text)\n",
        "\n",
        "# Replace '\\n' (a new line) with '' and end the string at $1000.\n",
        "#text = text.replace('\\n', '')[:-11]\n",
        "print(text)"
      ]
    }
  ]
}
